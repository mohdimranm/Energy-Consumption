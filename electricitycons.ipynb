{
 "cells": [
  {
   "cell_type": "code",
   "execution_count": 29,
   "metadata": {},
   "outputs": [],
   "source": [
    "import pandas as pd\n",
    "import numpy as np\n",
    "import matplotlib.pyplot as plt\n",
    "import seaborn as sns\n",
    "import scipy"
   ]
  },
  {
   "cell_type": "code",
   "execution_count": 30,
   "metadata": {},
   "outputs": [],
   "source": [
    "d2 = pd.read_csv('WE_2019_11_09.csv')"
   ]
  },
  {
   "cell_type": "code",
   "execution_count": 31,
   "metadata": {},
   "outputs": [
    {
     "data": {
      "text/plain": [
       "Index(['time', 'energy', 'current', 'voltage', 'power_real', 'power_apparent',\n",
       "       'power_factor', 'wifi', 'timestamp', 'device', 'pid', 'channel',\n",
       "       'version', 'threephasechannel'],\n",
       "      dtype='object')"
      ]
     },
     "execution_count": 31,
     "metadata": {},
     "output_type": "execute_result"
    }
   ],
   "source": [
    "d2.columns"
   ]
  },
  {
   "cell_type": "code",
   "execution_count": 32,
   "metadata": {},
   "outputs": [
    {
     "data": {
      "text/html": [
       "<div>\n",
       "<style scoped>\n",
       "    .dataframe tbody tr th:only-of-type {\n",
       "        vertical-align: middle;\n",
       "    }\n",
       "\n",
       "    .dataframe tbody tr th {\n",
       "        vertical-align: top;\n",
       "    }\n",
       "\n",
       "    .dataframe thead th {\n",
       "        text-align: right;\n",
       "    }\n",
       "</style>\n",
       "<table border=\"1\" class=\"dataframe\">\n",
       "  <thead>\n",
       "    <tr style=\"text-align: right;\">\n",
       "      <th></th>\n",
       "      <th>time</th>\n",
       "      <th>energy</th>\n",
       "      <th>current</th>\n",
       "      <th>voltage</th>\n",
       "      <th>power_real</th>\n",
       "      <th>power_apparent</th>\n",
       "      <th>power_factor</th>\n",
       "      <th>wifi</th>\n",
       "      <th>timestamp</th>\n",
       "      <th>device</th>\n",
       "      <th>pid</th>\n",
       "      <th>channel</th>\n",
       "      <th>version</th>\n",
       "      <th>threephasechannel</th>\n",
       "    </tr>\n",
       "  </thead>\n",
       "  <tbody>\n",
       "    <tr>\n",
       "      <th>0</th>\n",
       "      <td>1573257601</td>\n",
       "      <td>2762570800</td>\n",
       "      <td>1828</td>\n",
       "      <td>236708.0</td>\n",
       "      <td>410.0</td>\n",
       "      <td>432</td>\n",
       "      <td>949.0</td>\n",
       "      <td>-68.0</td>\n",
       "      <td>1573257601</td>\n",
       "      <td>WE</td>\n",
       "      <td>4d0032000851353532343835</td>\n",
       "      <td>1</td>\n",
       "      <td>1</td>\n",
       "      <td>NaN</td>\n",
       "    </tr>\n",
       "    <tr>\n",
       "      <th>1</th>\n",
       "      <td>1573257602</td>\n",
       "      <td>2762570915</td>\n",
       "      <td>1842</td>\n",
       "      <td>236745.0</td>\n",
       "      <td>414.0</td>\n",
       "      <td>436</td>\n",
       "      <td>949.0</td>\n",
       "      <td>-68.0</td>\n",
       "      <td>1573257602</td>\n",
       "      <td>WE</td>\n",
       "      <td>4d0032000851353532343835</td>\n",
       "      <td>1</td>\n",
       "      <td>1</td>\n",
       "      <td>NaN</td>\n",
       "    </tr>\n",
       "    <tr>\n",
       "      <th>2</th>\n",
       "      <td>1573257603</td>\n",
       "      <td>2762571029</td>\n",
       "      <td>1833</td>\n",
       "      <td>236652.0</td>\n",
       "      <td>410.0</td>\n",
       "      <td>433</td>\n",
       "      <td>946.0</td>\n",
       "      <td>-68.0</td>\n",
       "      <td>1573257603</td>\n",
       "      <td>WE</td>\n",
       "      <td>4d0032000851353532343835</td>\n",
       "      <td>1</td>\n",
       "      <td>1</td>\n",
       "      <td>NaN</td>\n",
       "    </tr>\n",
       "    <tr>\n",
       "      <th>3</th>\n",
       "      <td>1573257604</td>\n",
       "      <td>2762571143</td>\n",
       "      <td>1830</td>\n",
       "      <td>236430.0</td>\n",
       "      <td>410.0</td>\n",
       "      <td>432</td>\n",
       "      <td>949.0</td>\n",
       "      <td>-69.0</td>\n",
       "      <td>1573257604</td>\n",
       "      <td>WE</td>\n",
       "      <td>4d0032000851353532343835</td>\n",
       "      <td>1</td>\n",
       "      <td>1</td>\n",
       "      <td>NaN</td>\n",
       "    </tr>\n",
       "    <tr>\n",
       "      <th>4</th>\n",
       "      <td>1573257605</td>\n",
       "      <td>2762571257</td>\n",
       "      <td>1840</td>\n",
       "      <td>236190.0</td>\n",
       "      <td>410.0</td>\n",
       "      <td>434</td>\n",
       "      <td>944.0</td>\n",
       "      <td>-68.0</td>\n",
       "      <td>1573257605</td>\n",
       "      <td>WE</td>\n",
       "      <td>4d0032000851353532343835</td>\n",
       "      <td>1</td>\n",
       "      <td>1</td>\n",
       "      <td>NaN</td>\n",
       "    </tr>\n",
       "  </tbody>\n",
       "</table>\n",
       "</div>"
      ],
      "text/plain": [
       "         time      energy  current   voltage  power_real  power_apparent  \\\n",
       "0  1573257601  2762570800     1828  236708.0       410.0             432   \n",
       "1  1573257602  2762570915     1842  236745.0       414.0             436   \n",
       "2  1573257603  2762571029     1833  236652.0       410.0             433   \n",
       "3  1573257604  2762571143     1830  236430.0       410.0             432   \n",
       "4  1573257605  2762571257     1840  236190.0       410.0             434   \n",
       "\n",
       "   power_factor  wifi   timestamp device                       pid  channel  \\\n",
       "0         949.0 -68.0  1573257601     WE  4d0032000851353532343835        1   \n",
       "1         949.0 -68.0  1573257602     WE  4d0032000851353532343835        1   \n",
       "2         946.0 -68.0  1573257603     WE  4d0032000851353532343835        1   \n",
       "3         949.0 -69.0  1573257604     WE  4d0032000851353532343835        1   \n",
       "4         944.0 -68.0  1573257605     WE  4d0032000851353532343835        1   \n",
       "\n",
       "   version  threephasechannel  \n",
       "0        1                NaN  \n",
       "1        1                NaN  \n",
       "2        1                NaN  \n",
       "3        1                NaN  \n",
       "4        1                NaN  "
      ]
     },
     "execution_count": 32,
     "metadata": {},
     "output_type": "execute_result"
    }
   ],
   "source": [
    "d2.head()"
   ]
  },
  {
   "cell_type": "code",
   "execution_count": 33,
   "metadata": {},
   "outputs": [
    {
     "name": "stdout",
     "output_type": "stream",
     "text": [
      "No of unique devices: ['WE']\n"
     ]
    }
   ],
   "source": [
    "print(\"No of unique devices:\",d2['device'].unique())\n"
   ]
  },
  {
   "cell_type": "code",
   "execution_count": 34,
   "metadata": {},
   "outputs": [
    {
     "name": "stdout",
     "output_type": "stream",
     "text": [
      "No of Channels: [ 1  2  3  4  5  6  7  8  9 10 11 12 13]\n"
     ]
    }
   ],
   "source": [
    "print('No of Channels:' ,d2['channel'].unique())"
   ]
  },
  {
   "cell_type": "code",
   "execution_count": 35,
   "metadata": {},
   "outputs": [],
   "source": [
    "d2=d2.drop(['wifi','threephasechannel','pid'],axis=1)"
   ]
  },
  {
   "cell_type": "code",
   "execution_count": 36,
   "metadata": {},
   "outputs": [],
   "source": [
    "d2['voltage'].fillna((d2['voltage'].mean()),inplace=True)\n",
    "d2['power_real'].fillna((d2['power_real'].mean()),inplace=True)\n",
    "d2['power_factor'].fillna((d2['power_factor'].mean()),inplace=True)\n",
    "\n",
    "\n"
   ]
  },
  {
   "cell_type": "code",
   "execution_count": 37,
   "metadata": {},
   "outputs": [],
   "source": [
    "d2['device']= d2['device'].map({'WE':1})\n",
    "d2['device'].fillna(0,inplace=True)"
   ]
  },
  {
   "cell_type": "code",
   "execution_count": 38,
   "metadata": {},
   "outputs": [
    {
     "data": {
      "text/plain": [
       "232690.397235    790539\n",
       "232626.000000        79\n",
       "231949.000000        77\n",
       "232047.000000        77\n",
       "232786.000000        76\n",
       "                  ...  \n",
       "228676.000000         1\n",
       "237595.000000         1\n",
       "237588.000000         1\n",
       "237581.000000         1\n",
       "239284.000000         1\n",
       "Name: voltage, Length: 10639, dtype: int64"
      ]
     },
     "execution_count": 38,
     "metadata": {},
     "output_type": "execute_result"
    }
   ],
   "source": [
    "d2['voltage'].value_counts()"
   ]
  },
  {
   "cell_type": "code",
   "execution_count": 39,
   "metadata": {},
   "outputs": [
    {
     "data": {
      "text/plain": [
       "0          949.0\n",
       "1          949.0\n",
       "2          946.0\n",
       "3          949.0\n",
       "4          944.0\n",
       "           ...  \n",
       "1048570   -298.0\n",
       "1048571   -297.0\n",
       "1048572   -297.0\n",
       "1048573   -297.0\n",
       "1048574   -297.0\n",
       "Name: power_factor, Length: 1048575, dtype: float64"
      ]
     },
     "execution_count": 39,
     "metadata": {},
     "output_type": "execute_result"
    }
   ],
   "source": [
    "d2['power_factor']"
   ]
  },
  {
   "cell_type": "code",
   "execution_count": 40,
   "metadata": {},
   "outputs": [
    {
     "data": {
      "text/plain": [
       "time              0\n",
       "energy            0\n",
       "current           0\n",
       "voltage           0\n",
       "power_real        0\n",
       "power_apparent    0\n",
       "power_factor      0\n",
       "timestamp         0\n",
       "device            0\n",
       "channel           0\n",
       "version           0\n",
       "dtype: int64"
      ]
     },
     "execution_count": 40,
     "metadata": {},
     "output_type": "execute_result"
    }
   ],
   "source": [
    "d2.isnull().sum()"
   ]
  },
  {
   "cell_type": "code",
   "execution_count": 41,
   "metadata": {},
   "outputs": [
    {
     "data": {
      "text/plain": [
       "Text(0.5, 1.0, 'current vs voltage')"
      ]
     },
     "execution_count": 41,
     "metadata": {},
     "output_type": "execute_result"
    },
    {
     "data": {
      "image/png": "[encoded data removed]",
      "text/plain": [
       "<Figure size 720x360 with 1 Axes>"
      ]
     },
     "metadata": {
      "needs_background": "light"
     },
     "output_type": "display_data"
    }
   ],
   "source": [
    "plt.figure(figsize=(10,5))\n",
    "plt.plot(d2['current'],d2['voltage'],'*')\n",
    "plt.xlabel('Current',fontsize=15)\n",
    "plt.ylabel('voltage',fontsize=15)\n",
    "plt.title('current vs voltage')"
   ]
  },
  {
   "cell_type": "code",
   "execution_count": 42,
   "metadata": {
    "scrolled": true
   },
   "outputs": [
    {
     "data": {
      "text/plain": [
       "Text(0.5, 1.0, 'Energy Variation')"
      ]
     },
     "execution_count": 42,
     "metadata": {},
     "output_type": "execute_result"
    },
    {
     "data": {
      "image/png": "[encoded data removed]",
      "text/plain": [
       "<Figure size 432x288 with 1 Axes>"
      ]
     },
     "metadata": {
      "needs_background": "light"
     },
     "output_type": "display_data"
    }
   ],
   "source": [
    "sns.distplot(d2['energy'],color='blue')\n",
    "plt.title('Energy Variation')"
   ]
  },
  {
   "cell_type": "code",
   "execution_count": 43,
   "metadata": {},
   "outputs": [
    {
     "data": {
      "text/plain": [
       "<matplotlib.axes._subplots.AxesSubplot at 0x23747ffcc88>"
      ]
     },
     "execution_count": 43,
     "metadata": {},
     "output_type": "execute_result"
    },
    {
     "data": {
      "image/png": "[encoded data removed]",
      "text/plain": [
       "<Figure size 1080x360 with 2 Axes>"
      ]
     },
     "metadata": {
      "needs_background": "light"
     },
     "output_type": "display_data"
    }
   ],
   "source": [
    "plt.figure(figsize=(15,5))\n",
    "plt.subplot(1,2,1)\n",
    "sns.distplot(d2['power_factor'])\n",
    "\n",
    "plt.subplot(1,2,2)\n",
    "sns.distplot(d2['power_real'])"
   ]
  },
  {
   "cell_type": "code",
   "execution_count": 44,
   "metadata": {},
   "outputs": [],
   "source": [
    "X=d2"
   ]
  },
  {
   "cell_type": "code",
   "execution_count": 45,
   "metadata": {},
   "outputs": [],
   "source": [
    "from sklearn.cluster import KMeans\n",
    "from sklearn import cluster\n"
   ]
  },
  {
   "cell_type": "code",
   "execution_count": 46,
   "metadata": {},
   "outputs": [
    {
     "data": {
      "text/plain": [
       "KMeans(algorithm='auto', copy_x=True, init='k-means++', max_iter=300,\n",
       "       n_clusters=2, n_init=10, n_jobs=None, precompute_distances='auto',\n",
       "       random_state=None, tol=0.0001, verbose=0)"
      ]
     },
     "execution_count": 46,
     "metadata": {},
     "output_type": "execute_result"
    }
   ],
   "source": [
    "model = KMeans(n_clusters=2)\n",
    "model.fit(X)"
   ]
  },
  {
   "cell_type": "code",
   "execution_count": 47,
   "metadata": {},
   "outputs": [
    {
     "name": "stdout",
     "output_type": "stream",
     "text": [
      "[1 1 1 ... 0 0 0]\n"
     ]
    }
   ],
   "source": [
    "labels=model.predict(X)\n",
    "print(labels)"
   ]
  },
  {
   "cell_type": "code",
   "execution_count": 48,
   "metadata": {},
   "outputs": [
    {
     "name": "stdout",
     "output_type": "stream",
     "text": [
      "[[ 1.57329967e+09 -1.47567705e+08  9.99511468e+02  2.32690397e+05\n",
      "   1.51135106e+02  2.33504701e+02  4.27186954e+02  1.57329967e+09\n",
      "   1.00000000e+00  9.60799657e+00  1.00000000e+00]\n",
      " [ 1.57330075e+09  2.26620779e+09  2.46123088e+03  2.32690397e+05\n",
      "   4.48233461e+02  5.75336193e+02  6.15629670e+02  1.57330075e+09\n",
      "   1.00000000e+00  3.50000000e+00  1.00000000e+00]]\n"
     ]
    }
   ],
   "source": [
    "centroids = model.cluster_centers_\n",
    "print(centroids)"
   ]
  },
  {
   "cell_type": "code",
   "execution_count": null,
   "metadata": {},
   "outputs": [],
   "source": [
    "\n"
   ]
  },
  {
   "cell_type": "code",
   "execution_count": null,
   "metadata": {},
   "outputs": [],
   "source": []
  }
 ],
 "metadata": {
  "kernelspec": {
   "display_name": "Python 3",
   "language": "python",
   "name": "python3"
  },
  "language_info": {
   "codemirror_mode": {
    "name": "ipython",
    "version": 3
   },
   "file_extension": ".py",
   "mimetype": "text/x-python",
   "name": "python",
   "nbconvert_exporter": "python",
   "pygments_lexer": "ipython3",
   "version": "3.7.5"
  }
 },
 "nbformat": 4,
 "nbformat_minor": 2
}
